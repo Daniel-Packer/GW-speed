{
 "cells": [
  {
   "cell_type": "code",
   "execution_count": 1,
   "metadata": {},
   "outputs": [],
   "source": [
    "import numpy as np\n",
    "import matplotlib.pyplot as plt\n",
    "import jax.numpy as jnp\n",
    "from scipy.stats import wasserstein_distance\n",
    "from jax import jit\n",
    "\n",
    "rng = np.random.default_rng(seed = 123)"
   ]
  },
  {
   "cell_type": "code",
   "execution_count": 4,
   "metadata": {},
   "outputs": [],
   "source": [
    "def cdf_distance(p, u_values, v_values, u_weights=None, v_weights=None):\n",
    "    r\"\"\"\n",
    "    Compute, between two one-dimensional distributions :math:`u` and\n",
    "    :math:`v`, whose respective CDFs are :math:`U` and :math:`V`, the\n",
    "    statistical distance that is defined as:\n",
    "\n",
    "    .. math::\n",
    "\n",
    "        l_p(u, v) = \\left( \\int_{-\\infty}^{+\\infty} |U-V|^p \\right)^{1/p}\n",
    "\n",
    "    p is a positive parameter; p = 1 gives the Wasserstein distance, p = 2\n",
    "    gives the energy distance.\n",
    "\n",
    "    Parameters\n",
    "    ----------\n",
    "    u_values, v_values : array_like\n",
    "        Values observed in the (empirical) distribution.\n",
    "    u_weights, v_weights : array_like, optional\n",
    "        Weight for each value. If unspecified, each value is assigned the same\n",
    "        weight.\n",
    "        `u_weights` (resp. `v_weights`) must have the same length as\n",
    "        `u_values` (resp. `v_values`). If the weight sum differs from 1, it\n",
    "        must still be positive and finite so that the weights can be normalized\n",
    "        to sum to 1.\n",
    "\n",
    "    Returns\n",
    "    -------\n",
    "    distance : float\n",
    "        The computed distance between the distributions.\n",
    "\n",
    "    Notes\n",
    "    -----\n",
    "    The input distributions can be empirical, therefore coming from samples\n",
    "    whose values are effectively inputs of the function, or they can be seen as\n",
    "    generalized functions, in which case they are weighted sums of Dirac delta\n",
    "    functions located at the specified values.\n",
    "\n",
    "    References\n",
    "    ----------\n",
    "    .. [1] Bellemare, Danihelka, Dabney, Mohamed, Lakshminarayanan, Hoyer,\n",
    "           Munos \"The Cramer Distance as a Solution to Biased Wasserstein\n",
    "           Gradients\" (2017). :arXiv:`1705.10743`.\n",
    "\n",
    "    \"\"\"\n",
    "    # u_values, u_weights = _validate_distribution(u_values, u_weights)\n",
    "    # v_values, v_weights = _validate_distribution(v_values, v_weights)\n",
    "\n",
    "    u_sorter = np.argsort(u_values)\n",
    "    v_sorter = np.argsort(v_values)\n",
    "\n",
    "    all_values = np.concatenate((u_values, v_values))\n",
    "    all_values.sort(kind='mergesort')\n",
    "\n",
    "    # Compute the differences between pairs of successive values of u and v.\n",
    "    deltas = np.diff(all_values)\n",
    "\n",
    "    # Get the respective positions of the values of u and v among the values of\n",
    "    # both distributions.\n",
    "    u_cdf_indices = u_values[u_sorter].searchsorted(all_values[:-1], 'right')\n",
    "    v_cdf_indices = v_values[v_sorter].searchsorted(all_values[:-1], 'right')\n",
    "\n",
    "    # Calculate the CDFs of u and v using their weights, if specified.\n",
    "    if u_weights is None:\n",
    "        u_cdf = u_cdf_indices / u_values.size\n",
    "    else:\n",
    "        u_sorted_cumweights = np.concatenate(([0],\n",
    "                                              np.cumsum(u_weights[u_sorter])))\n",
    "        u_cdf = u_sorted_cumweights[u_cdf_indices] / u_sorted_cumweights[-1]\n",
    "\n",
    "    if v_weights is None:\n",
    "        v_cdf = v_cdf_indices / v_values.size\n",
    "    else:\n",
    "        v_sorted_cumweights = np.concatenate(([0],\n",
    "                                              np.cumsum(v_weights[v_sorter])))\n",
    "        v_cdf = v_sorted_cumweights[v_cdf_indices] / v_sorted_cumweights[-1]\n",
    "\n",
    "    # Compute the value of the integral based on the CDFs.\n",
    "    # If p = 1 or p = 2, we avoid using np.power, which introduces an overhead\n",
    "    # of about 15%.\n",
    "    if p == 1:\n",
    "        return np.sum(np.multiply(np.abs(u_cdf - v_cdf), deltas))\n",
    "    if p == 2:\n",
    "        return np.sqrt(np.sum(np.multiply(np.square(u_cdf - v_cdf), deltas)))\n",
    "    return np.power(np.sum(np.multiply(np.power(np.abs(u_cdf - v_cdf), p),\n",
    "                                       deltas)), 1/p)\n"
   ]
  },
  {
   "cell_type": "code",
   "execution_count": 2,
   "metadata": {},
   "outputs": [
    {
     "name": "stderr",
     "output_type": "stream",
     "text": [
      "No GPU/TPU found, falling back to CPU. (Set TF_CPP_MIN_LOG_LEVEL=0 and rerun for more info.)\n"
     ]
    }
   ],
   "source": [
    "def pairwise_dists(point_cloud, squared = False):\n",
    "    norms = jnp.sum(jnp.square(point_cloud), axis = 1)\n",
    "    dists_sq = jnp.maximum(norms[:, None] + norms[None, :] - 2 * point_cloud @ point_cloud.T, 0)\n",
    "    if squared:\n",
    "        return dists_sq\n",
    "    else:\n",
    "        return jnp.sqrt(dists_sq)\n",
    "# dist_1 = np.array([0., 1., 2.])\n",
    "# dist_2 = np.array([0.5, 1.5])\n",
    "N_x, N_y = 200, 200\n",
    "x = rng.normal(size = (N_x, 2))\n",
    "y = rng.normal(size = (N_y, 3))\n",
    "\n",
    "dists_x = pairwise_dists(x)\n",
    "dists_y = pairwise_dists(y)\n",
    "# cdf_distance(p = 2, u_values = dist_1, v_values = dist_2)"
   ]
  },
  {
   "cell_type": "code",
   "execution_count": 3,
   "metadata": {},
   "outputs": [],
   "source": [
    "def get_histogram_distances(dists_x, dists_y):\n",
    "    N_x, N_y = dists_x.shape[0], dists_y.shape[0]\n",
    "    dists_x_sorter = jnp.argsort(dists_x, axis = 1)\n",
    "    dists_y_sorter = jnp.argsort(dists_y, axis = 1)\n",
    "\n",
    "    dists_x_sorted = jnp.take_along_axis(dists_x, dists_x_sorter, axis = 1)\n",
    "    dists_y_sorted = jnp.take_along_axis(dists_y, dists_y_sorter, axis = 1)\n",
    "\n",
    "    dists_x_wide = jnp.tile(dists_x_sorted[:, None, :], [1, N_y, 1])\n",
    "    dists_y_wide = jnp.tile(dists_y_sorted[None, :, :], [N_x, 1, 1])\n",
    "\n",
    "    all_values = jnp.concatenate([dists_x_wide, dists_y_wide], axis = 2)\n",
    "    all_values_sorter = jnp.argsort(all_values, axis = 2)\n",
    "    # all_values_index_finder = jnp.argsort(all_values_sorter, axis = 2)\n",
    "\n",
    "    # These two methods should be equivalent. I'm not sure which is faster\n",
    "    # all_values_sorted = jnp.sort(all_values)\n",
    "    all_values_sorted = jnp.take_along_axis(all_values, all_values_sorter, axis = 2) # I'm guessing this one\n",
    "    deltas = jnp.diff(all_values_sorted, axis = 2)\n",
    "\n",
    "    # dist_x_pdf_indices = all_values_index_finder[:, :, :N_x]\n",
    "    # dist_y_pdf_indices = all_values_index_finder[:, :, N_x:]\n",
    "\n",
    "    dist_x_pdf = jnp.concatenate([jnp.ones(dists_x_wide.shape), jnp.zeros(dists_y_wide.shape)], axis = 2)\n",
    "    dist_y_pdf = jnp.concatenate([jnp.zeros(dists_x_wide.shape), jnp.ones(dists_y_wide.shape)], axis = 2)\n",
    "\n",
    "    dist_x_pdf = jnp.take_along_axis(dist_x_pdf, all_values_sorter, axis = 2) / N_x\n",
    "    dist_y_pdf = jnp.take_along_axis(dist_y_pdf, all_values_sorter, axis = 2) / N_y\n",
    "\n",
    "    dist_x_cdf = jnp.cumsum(dist_x_pdf, axis = 2)[:, :, :-1]\n",
    "    dist_y_cdf = jnp.cumsum(dist_y_pdf, axis = 2)[:, :, :-1]\n",
    "\n",
    "    hist_dis_xy = jnp.sum(jnp.multiply(jnp.abs(dist_x_cdf - dist_y_cdf), deltas), axis = 2)\n",
    "    return hist_dis_xy\n",
    "\n",
    "jit_histogram_distances = jit(get_histogram_distances)\n"
   ]
  },
  {
   "cell_type": "code",
   "execution_count": 8,
   "metadata": {},
   "outputs": [
    {
     "data": {
      "text/plain": [
       "Array([[0.3829897 , 0.08608823, 0.820945  , ..., 0.374511  , 0.36881202,\n",
       "        0.30060112],\n",
       "       [0.34097645, 0.110889  , 0.77603734, ..., 0.33019018, 0.32477453,\n",
       "        0.25647563],\n",
       "       [0.46761823, 0.16142243, 0.9055736 , ..., 0.45913953, 0.45344073,\n",
       "        0.38543075],\n",
       "       ...,\n",
       "       [0.32063705, 0.66667104, 0.15111683, ..., 0.32663924, 0.33690205,\n",
       "        0.40595856],\n",
       "       [0.69335747, 0.3473632 , 1.1313128 , ..., 0.68487835, 0.6791797 ,\n",
       "        0.6109711 ],\n",
       "       [0.62525475, 0.28649467, 1.0632101 , ..., 0.61677593, 0.6110772 ,\n",
       "        0.5428711 ]], dtype=float32)"
      ]
     },
     "execution_count": 8,
     "metadata": {},
     "output_type": "execute_result"
    }
   ],
   "source": [
    "# get_histogram_distances(dists_x, dists_y)\n",
    "jit_histogram_distances(dists_x, dists_y)"
   ]
  },
  {
   "cell_type": "code",
   "execution_count": 202,
   "metadata": {},
   "outputs": [
    {
     "data": {
      "text/plain": [
       "1.5787187178929647"
      ]
     },
     "execution_count": 202,
     "metadata": {},
     "output_type": "execute_result"
    }
   ],
   "source": [
    "wasserstein_distance(dists_x[0], dists_y[0])"
   ]
  },
  {
   "cell_type": "code",
   "execution_count": 197,
   "metadata": {},
   "outputs": [],
   "source": [
    "u_values = np.array(dists_x[0])\n",
    "v_values = np.array(dists_y[0])\n",
    "\n",
    "u_weights = None\n",
    "v_weights = None\n",
    "\n",
    "u_sorter = np.argsort(u_values)\n",
    "v_sorter = np.argsort(v_values)\n",
    "\n",
    "all_values_unsorted = np.concatenate((u_values[u_sorter], v_values[v_sorter]))\n",
    "all_values_sorter = np.argsort(all_values_unsorted)\n",
    "all_values = np.sort(all_values_unsorted, kind='mergesort')\n",
    "\n",
    "# Compute the differences between pairs of successive values of u and v.\n",
    "deltas = np.diff(all_values)\n",
    "\n",
    "# Get the respective positions of the values of u and v among the values of\n",
    "# both distributions.\n",
    "u_cdf_indices = u_values[u_sorter].searchsorted(all_values[:-1], 'right')\n",
    "v_cdf_indices = v_values[v_sorter].searchsorted(all_values[:-1], 'right')\n",
    "\n",
    "# Calculate the CDFs of u and v using their weights, if specified.\n",
    "if u_weights is None:\n",
    "    u_cdf = u_cdf_indices / u_values.size\n",
    "else:\n",
    "    u_sorted_cumweights = np.concatenate(([0],\n",
    "                                            np.cumsum(u_weights[u_sorter])))\n",
    "    u_cdf = u_sorted_cumweights[u_cdf_indices] / u_sorted_cumweights[-1]\n",
    "\n",
    "if v_weights is None:\n",
    "    v_cdf = v_cdf_indices / v_values.size\n",
    "else:\n",
    "    v_sorted_cumweights = np.concatenate(([0],\n",
    "                                            np.cumsum(v_weights[v_sorter])))\n",
    "    v_cdf = v_sorted_cumweights[v_cdf_indices] / v_sorted_cumweights[-1]"
   ]
  },
  {
   "cell_type": "code",
   "execution_count": 198,
   "metadata": {},
   "outputs": [
    {
     "data": {
      "text/plain": [
       "array([0. , 0.1, 0.2, 0.3, 0.4, 0.5, 0.5, 0.6, 0.7, 0.8, 0.9, 0.9, 1. ,\n",
       "       1. , 1. , 1. , 1. , 1. , 1. , 1. , 1. , 1. , 1. , 1. ])"
      ]
     },
     "execution_count": 198,
     "metadata": {},
     "output_type": "execute_result"
    }
   ],
   "source": [
    "# u_cdf\n",
    "# deltas\n",
    "# u_values\n",
    "# v_values\n",
    "# all_values.shape\n",
    "u_cdf\n",
    "# v_cdf\n",
    "# all_valuesnp.array([0, 1, 2])"
   ]
  },
  {
   "cell_type": "code",
   "execution_count": 200,
   "metadata": {},
   "outputs": [
    {
     "data": {
      "text/plain": [
       "Array([0.0000000e+00, 0.0000000e+00, 0.0000000e+00, 0.0000000e+00,\n",
       "       0.0000000e+00, 0.0000000e+00, 0.0000000e+00, 0.0000000e+00,\n",
       "       5.9604645e-08, 0.0000000e+00, 5.9604645e-08, 5.9604645e-08,\n",
       "       0.0000000e+00, 0.0000000e+00, 0.0000000e+00, 0.0000000e+00,\n",
       "       0.0000000e+00, 0.0000000e+00, 0.0000000e+00, 0.0000000e+00,\n",
       "       0.0000000e+00, 0.0000000e+00, 0.0000000e+00, 0.0000000e+00],      dtype=float32)"
      ]
     },
     "execution_count": 200,
     "metadata": {},
     "output_type": "execute_result"
    }
   ],
   "source": [
    "dist_x_cdf[0, 0] - u_cdf"
   ]
  },
  {
   "cell_type": "code",
   "execution_count": 124,
   "metadata": {},
   "outputs": [
    {
     "data": {
      "text/plain": [
       "array([0.33333333, 0.33333333, 0.66666667, 0.66666667, 1.        ])"
      ]
     },
     "execution_count": 124,
     "metadata": {},
     "output_type": "execute_result"
    }
   ],
   "source": [
    "# u_cdf_indices\n",
    "# all_values_reverse_sorter = np.empty(all_values_sorter.size, dtype = np.int32)\n",
    "all_values_reverse_sorter = np.argsort(all_values_sorter)\n",
    "\n",
    "u_ind = all_values_reverse_sorter[:3]\n",
    "u_pdf = np.zeros(all_values.shape)\n",
    "u_pdf[u_ind] = 1. / u_ind.shape[0]\n",
    "u_cdf = np.cumsum(u_pdf)\n",
    "u_cdf\n",
    "# print(u_values[u_sorter])\n",
    "# print(all_values_unsorted)\n",
    "# print(all_values_sorter)\n",
    "# print(all_values_reverse_sorter)\n",
    "# print(u_cdf_indices)"
   ]
  },
  {
   "cell_type": "code",
   "execution_count": 19,
   "metadata": {},
   "outputs": [
    {
     "data": {
      "text/plain": [
       "<matplotlib.collections.PathCollection at 0x7f041ed23b10>"
      ]
     },
     "execution_count": 19,
     "metadata": {},
     "output_type": "execute_result"
    },
    {
     "data": {
      "image/png": "[encoded data removed]",
      "text/plain": [
       "<Figure size 640x480 with 1 Axes>"
      ]
     },
     "metadata": {},
     "output_type": "display_data"
    }
   ],
   "source": [
    "plt.scatter(np.cumsum(deltas), u_cdf)\n",
    "plt.scatter(np.cumsum(deltas), v_cdf)"
   ]
  }
 ],
 "metadata": {
  "kernelspec": {
   "display_name": "pyot",
   "language": "python",
   "name": "python3"
  },
  "language_info": {
   "codemirror_mode": {
    "name": "ipython",
    "version": 3
   },
   "file_extension": ".py",
   "mimetype": "text/x-python",
   "name": "python",
   "nbconvert_exporter": "python",
   "pygments_lexer": "ipython3",
   "version": "3.11.4"
  },
  "orig_nbformat": 4
 },
 "nbformat": 4,
 "nbformat_minor": 2
}
